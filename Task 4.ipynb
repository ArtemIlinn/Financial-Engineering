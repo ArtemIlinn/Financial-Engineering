{
 "cells": [
  {
   "cell_type": "code",
   "execution_count": 1,
   "metadata": {
    "collapsed": true,
    "pycharm": {
     "name": "#%%\n"
    }
   },
   "outputs": [],
   "source": [
    "import numpy as np\n",
    "from scipy.stats import f_oneway, kruskal\n",
    "import yfinance as yf"
   ]
  },
  {
   "cell_type": "markdown",
   "source": [
    "## Getting Data"
   ],
   "metadata": {
    "collapsed": false,
    "pycharm": {
     "name": "#%% md\n"
    }
   }
  },
  {
   "cell_type": "code",
   "execution_count": 2,
   "outputs": [
    {
     "name": "stdout",
     "output_type": "stream",
     "text": [
      "[*********************100%***********************]  1 of 1 completed\n"
     ]
    },
    {
     "data": {
      "text/plain": "                Open      High       Low     Close  Adj Close     Volume\nDate                                                                    \n1980-12-12  0.128348  0.128906  0.128348  0.128348   0.099449  469033600\n1980-12-15  0.122210  0.122210  0.121652  0.121652   0.094261  175884800\n1980-12-16  0.113281  0.113281  0.112723  0.112723   0.087343  105728000\n1980-12-17  0.115513  0.116071  0.115513  0.115513   0.089504   86441600\n1980-12-18  0.118862  0.119420  0.118862  0.118862   0.092099   73449600",
      "text/html": "<div>\n<style scoped>\n    .dataframe tbody tr th:only-of-type {\n        vertical-align: middle;\n    }\n\n    .dataframe tbody tr th {\n        vertical-align: top;\n    }\n\n    .dataframe thead th {\n        text-align: right;\n    }\n</style>\n<table border=\"1\" class=\"dataframe\">\n  <thead>\n    <tr style=\"text-align: right;\">\n      <th></th>\n      <th>Open</th>\n      <th>High</th>\n      <th>Low</th>\n      <th>Close</th>\n      <th>Adj Close</th>\n      <th>Volume</th>\n    </tr>\n    <tr>\n      <th>Date</th>\n      <th></th>\n      <th></th>\n      <th></th>\n      <th></th>\n      <th></th>\n      <th></th>\n    </tr>\n  </thead>\n  <tbody>\n    <tr>\n      <th>1980-12-12</th>\n      <td>0.128348</td>\n      <td>0.128906</td>\n      <td>0.128348</td>\n      <td>0.128348</td>\n      <td>0.099449</td>\n      <td>469033600</td>\n    </tr>\n    <tr>\n      <th>1980-12-15</th>\n      <td>0.122210</td>\n      <td>0.122210</td>\n      <td>0.121652</td>\n      <td>0.121652</td>\n      <td>0.094261</td>\n      <td>175884800</td>\n    </tr>\n    <tr>\n      <th>1980-12-16</th>\n      <td>0.113281</td>\n      <td>0.113281</td>\n      <td>0.112723</td>\n      <td>0.112723</td>\n      <td>0.087343</td>\n      <td>105728000</td>\n    </tr>\n    <tr>\n      <th>1980-12-17</th>\n      <td>0.115513</td>\n      <td>0.116071</td>\n      <td>0.115513</td>\n      <td>0.115513</td>\n      <td>0.089504</td>\n      <td>86441600</td>\n    </tr>\n    <tr>\n      <th>1980-12-18</th>\n      <td>0.118862</td>\n      <td>0.119420</td>\n      <td>0.118862</td>\n      <td>0.118862</td>\n      <td>0.092099</td>\n      <td>73449600</td>\n    </tr>\n  </tbody>\n</table>\n</div>"
     },
     "execution_count": 2,
     "metadata": {},
     "output_type": "execute_result"
    }
   ],
   "source": [
    "hist = yf.download('AAPL')\n",
    "hist.head(5)"
   ],
   "metadata": {
    "collapsed": false,
    "pycharm": {
     "name": "#%%\n"
    }
   }
  },
  {
   "cell_type": "markdown",
   "source": [
    "## Calculating Returns"
   ],
   "metadata": {
    "collapsed": false,
    "pycharm": {
     "name": "#%% md\n"
    }
   }
  },
  {
   "cell_type": "code",
   "execution_count": 3,
   "outputs": [],
   "source": [
    "hist[\"Returns\"] = hist[\"Adj Close\"].pct_change()\n",
    "hist = hist.dropna()"
   ],
   "metadata": {
    "collapsed": false,
    "pycharm": {
     "name": "#%%\n"
    }
   }
  },
  {
   "cell_type": "code",
   "execution_count": 4,
   "outputs": [
    {
     "data": {
      "text/plain": "                Open      High       Low     Close  Adj Close     Volume  \\\nDate                                                                       \n1980-12-15  0.122210  0.122210  0.121652  0.121652   0.094261  175884800   \n1980-12-16  0.113281  0.113281  0.112723  0.112723   0.087343  105728000   \n1980-12-17  0.115513  0.116071  0.115513  0.115513   0.089504   86441600   \n1980-12-18  0.118862  0.119420  0.118862  0.118862   0.092099   73449600   \n1980-12-19  0.126116  0.126674  0.126116  0.126116   0.097720   48630400   \n\n             Returns  \nDate                  \n1980-12-15 -0.052170  \n1980-12-16 -0.073398  \n1980-12-17  0.024751  \n1980-12-18  0.028993  \n1980-12-19  0.061028  ",
      "text/html": "<div>\n<style scoped>\n    .dataframe tbody tr th:only-of-type {\n        vertical-align: middle;\n    }\n\n    .dataframe tbody tr th {\n        vertical-align: top;\n    }\n\n    .dataframe thead th {\n        text-align: right;\n    }\n</style>\n<table border=\"1\" class=\"dataframe\">\n  <thead>\n    <tr style=\"text-align: right;\">\n      <th></th>\n      <th>Open</th>\n      <th>High</th>\n      <th>Low</th>\n      <th>Close</th>\n      <th>Adj Close</th>\n      <th>Volume</th>\n      <th>Returns</th>\n    </tr>\n    <tr>\n      <th>Date</th>\n      <th></th>\n      <th></th>\n      <th></th>\n      <th></th>\n      <th></th>\n      <th></th>\n      <th></th>\n    </tr>\n  </thead>\n  <tbody>\n    <tr>\n      <th>1980-12-15</th>\n      <td>0.122210</td>\n      <td>0.122210</td>\n      <td>0.121652</td>\n      <td>0.121652</td>\n      <td>0.094261</td>\n      <td>175884800</td>\n      <td>-0.052170</td>\n    </tr>\n    <tr>\n      <th>1980-12-16</th>\n      <td>0.113281</td>\n      <td>0.113281</td>\n      <td>0.112723</td>\n      <td>0.112723</td>\n      <td>0.087343</td>\n      <td>105728000</td>\n      <td>-0.073398</td>\n    </tr>\n    <tr>\n      <th>1980-12-17</th>\n      <td>0.115513</td>\n      <td>0.116071</td>\n      <td>0.115513</td>\n      <td>0.115513</td>\n      <td>0.089504</td>\n      <td>86441600</td>\n      <td>0.024751</td>\n    </tr>\n    <tr>\n      <th>1980-12-18</th>\n      <td>0.118862</td>\n      <td>0.119420</td>\n      <td>0.118862</td>\n      <td>0.118862</td>\n      <td>0.092099</td>\n      <td>73449600</td>\n      <td>0.028993</td>\n    </tr>\n    <tr>\n      <th>1980-12-19</th>\n      <td>0.126116</td>\n      <td>0.126674</td>\n      <td>0.126116</td>\n      <td>0.126116</td>\n      <td>0.097720</td>\n      <td>48630400</td>\n      <td>0.061028</td>\n    </tr>\n  </tbody>\n</table>\n</div>"
     },
     "execution_count": 4,
     "metadata": {},
     "output_type": "execute_result"
    }
   ],
   "source": [
    "hist.head(5)"
   ],
   "metadata": {
    "collapsed": false,
    "pycharm": {
     "name": "#%%\n"
    }
   }
  },
  {
   "cell_type": "markdown",
   "source": [
    "## Determining a Weekday"
   ],
   "metadata": {
    "collapsed": false,
    "pycharm": {
     "name": "#%% md\n"
    }
   }
  },
  {
   "cell_type": "code",
   "execution_count": 5,
   "outputs": [],
   "source": [
    "from datetime import datetime"
   ],
   "metadata": {
    "collapsed": false,
    "pycharm": {
     "name": "#%%\n"
    }
   }
  },
  {
   "cell_type": "code",
   "execution_count": 6,
   "outputs": [
    {
     "name": "stderr",
     "output_type": "stream",
     "text": [
      "/var/folders/xd/xm863f553v750zss70sl77sc0000gn/T/ipykernel_3790/4060661129.py:1: SettingWithCopyWarning: \n",
      "A value is trying to be set on a copy of a slice from a DataFrame.\n",
      "Try using .loc[row_indexer,col_indexer] = value instead\n",
      "\n",
      "See the caveats in the documentation: https://pandas.pydata.org/pandas-docs/stable/user_guide/indexing.html#returning-a-view-versus-a-copy\n",
      "  hist[\"Weekday\"] = hist.index.day_name()\n"
     ]
    }
   ],
   "source": [
    "hist[\"Weekday\"] = hist.index.day_name()"
   ],
   "metadata": {
    "collapsed": false,
    "pycharm": {
     "name": "#%%\n"
    }
   }
  },
  {
   "cell_type": "code",
   "execution_count": 8,
   "outputs": [
    {
     "data": {
      "text/plain": "                Open      High       Low     Close  Adj Close     Volume  \\\nDate                                                                       \n1980-12-15  0.122210  0.122210  0.121652  0.121652   0.094261  175884800   \n1980-12-16  0.113281  0.113281  0.112723  0.112723   0.087343  105728000   \n1980-12-17  0.115513  0.116071  0.115513  0.115513   0.089504   86441600   \n1980-12-18  0.118862  0.119420  0.118862  0.118862   0.092099   73449600   \n1980-12-19  0.126116  0.126674  0.126116  0.126116   0.097720   48630400   \n\n             Returns    Weekday  \nDate                             \n1980-12-15 -0.052170     Monday  \n1980-12-16 -0.073398    Tuesday  \n1980-12-17  0.024751  Wednesday  \n1980-12-18  0.028993   Thursday  \n1980-12-19  0.061028     Friday  ",
      "text/html": "<div>\n<style scoped>\n    .dataframe tbody tr th:only-of-type {\n        vertical-align: middle;\n    }\n\n    .dataframe tbody tr th {\n        vertical-align: top;\n    }\n\n    .dataframe thead th {\n        text-align: right;\n    }\n</style>\n<table border=\"1\" class=\"dataframe\">\n  <thead>\n    <tr style=\"text-align: right;\">\n      <th></th>\n      <th>Open</th>\n      <th>High</th>\n      <th>Low</th>\n      <th>Close</th>\n      <th>Adj Close</th>\n      <th>Volume</th>\n      <th>Returns</th>\n      <th>Weekday</th>\n    </tr>\n    <tr>\n      <th>Date</th>\n      <th></th>\n      <th></th>\n      <th></th>\n      <th></th>\n      <th></th>\n      <th></th>\n      <th></th>\n      <th></th>\n    </tr>\n  </thead>\n  <tbody>\n    <tr>\n      <th>1980-12-15</th>\n      <td>0.122210</td>\n      <td>0.122210</td>\n      <td>0.121652</td>\n      <td>0.121652</td>\n      <td>0.094261</td>\n      <td>175884800</td>\n      <td>-0.052170</td>\n      <td>Monday</td>\n    </tr>\n    <tr>\n      <th>1980-12-16</th>\n      <td>0.113281</td>\n      <td>0.113281</td>\n      <td>0.112723</td>\n      <td>0.112723</td>\n      <td>0.087343</td>\n      <td>105728000</td>\n      <td>-0.073398</td>\n      <td>Tuesday</td>\n    </tr>\n    <tr>\n      <th>1980-12-17</th>\n      <td>0.115513</td>\n      <td>0.116071</td>\n      <td>0.115513</td>\n      <td>0.115513</td>\n      <td>0.089504</td>\n      <td>86441600</td>\n      <td>0.024751</td>\n      <td>Wednesday</td>\n    </tr>\n    <tr>\n      <th>1980-12-18</th>\n      <td>0.118862</td>\n      <td>0.119420</td>\n      <td>0.118862</td>\n      <td>0.118862</td>\n      <td>0.092099</td>\n      <td>73449600</td>\n      <td>0.028993</td>\n      <td>Thursday</td>\n    </tr>\n    <tr>\n      <th>1980-12-19</th>\n      <td>0.126116</td>\n      <td>0.126674</td>\n      <td>0.126116</td>\n      <td>0.126116</td>\n      <td>0.097720</td>\n      <td>48630400</td>\n      <td>0.061028</td>\n      <td>Friday</td>\n    </tr>\n  </tbody>\n</table>\n</div>"
     },
     "execution_count": 8,
     "metadata": {},
     "output_type": "execute_result"
    }
   ],
   "source": [
    "hist.head(5)"
   ],
   "metadata": {
    "collapsed": false,
    "pycharm": {
     "name": "#%%\n"
    }
   }
  },
  {
   "cell_type": "markdown",
   "source": [
    "# 1) test a hypothesis that daily return and volume are the same by a week day\n"
   ],
   "metadata": {
    "collapsed": false,
    "pycharm": {
     "name": "#%% md\n"
    }
   }
  },
  {
   "cell_type": "markdown",
   "source": [
    "### Applying ANOVA"
   ],
   "metadata": {
    "collapsed": false,
    "pycharm": {
     "name": "#%% md\n"
    }
   }
  },
  {
   "cell_type": "code",
   "execution_count": 9,
   "outputs": [
    {
     "name": "stdout",
     "output_type": "stream",
     "text": [
      "The daily returns are not the same across weekdays (reject null hypothesis).\n"
     ]
    }
   ],
   "source": [
    "grouped_data = [hist['Returns'][hist['Weekday'] == weekday] for weekday in hist['Weekday'].unique()]\n",
    "\n",
    "f_statistic, p_value = f_oneway(*grouped_data)\n",
    "\n",
    "if p_value < 0.05:\n",
    "    print(\"The daily returns are not the same across weekdays (reject null hypothesis).\")\n",
    "else:\n",
    "    print(\"The daily returns are the same across weekdays (fail to reject null hypothesis).\")\n"
   ],
   "metadata": {
    "collapsed": false,
    "pycharm": {
     "name": "#%%\n"
    }
   }
  },
  {
   "cell_type": "markdown",
   "source": [
    "### Applying Kruskal-Wallis"
   ],
   "metadata": {
    "collapsed": false,
    "pycharm": {
     "name": "#%% md\n"
    }
   }
  },
  {
   "cell_type": "code",
   "execution_count": 10,
   "outputs": [
    {
     "name": "stdout",
     "output_type": "stream",
     "text": [
      "The daily returns are not the same across weekdays (reject null hypothesis).\n"
     ]
    }
   ],
   "source": [
    "grouped_data = [hist['Returns'][hist['Weekday'] == weekday] for weekday in hist['Weekday'].unique()]\n",
    "\n",
    "\n",
    "h_statistic, p_value = kruskal(*grouped_data)\n",
    "\n",
    "\n",
    "if p_value < 0.05:\n",
    "    print(\"The daily returns are not the same across weekdays (reject null hypothesis).\")\n",
    "else:\n",
    "    print(\"The daily returns are the same across weekdays (fail to reject null hypothesis).\")\n"
   ],
   "metadata": {
    "collapsed": false,
    "pycharm": {
     "name": "#%%\n"
    }
   }
  },
  {
   "cell_type": "markdown",
   "source": [
    "# 2) test a hypothesis that overnight and over-the-weekend returns are the same statistically\n"
   ],
   "metadata": {
    "collapsed": false,
    "pycharm": {
     "name": "#%% md\n"
    }
   }
  },
  {
   "cell_type": "code",
   "execution_count": 18,
   "outputs": [],
   "source": [
    "import pandas as pd\n",
    "from scipy.stats import ttest_ind"
   ],
   "metadata": {
    "collapsed": false,
    "pycharm": {
     "name": "#%%\n"
    }
   }
  },
  {
   "cell_type": "code",
   "execution_count": 19,
   "outputs": [
    {
     "name": "stderr",
     "output_type": "stream",
     "text": [
      "/var/folders/xd/xm863f553v750zss70sl77sc0000gn/T/ipykernel_3790/4026240432.py:1: SettingWithCopyWarning: \n",
      "A value is trying to be set on a copy of a slice from a DataFrame.\n",
      "Try using .loc[row_indexer,col_indexer] = value instead\n",
      "\n",
      "See the caveats in the documentation: https://pandas.pydata.org/pandas-docs/stable/user_guide/indexing.html#returning-a-view-versus-a-copy\n",
      "  hist['Overnight_Returns'] = hist['Open'] - hist['Close'].shift(1)\n",
      "/var/folders/xd/xm863f553v750zss70sl77sc0000gn/T/ipykernel_3790/4026240432.py:5: SettingWithCopyWarning: \n",
      "A value is trying to be set on a copy of a slice from a DataFrame.\n",
      "Try using .loc[row_indexer,col_indexer] = value instead\n",
      "\n",
      "See the caveats in the documentation: https://pandas.pydata.org/pandas-docs/stable/user_guide/indexing.html#returning-a-view-versus-a-copy\n",
      "  hist.loc[weekend_returns.index, 'Weekend_Returns'] = weekend_returns\n"
     ]
    }
   ],
   "source": [
    "hist['Overnight_Returns'] = hist['Open'] - hist['Close'].shift(1)\n",
    "\n",
    "weekend_data = hist[hist['Weekday'].isin(['Friday', 'Monday'])]\n",
    "weekend_returns = weekend_data['Open'] - weekend_data['Close'].shift(1)\n",
    "hist.loc[weekend_returns.index, 'Weekend_Returns'] = weekend_returns"
   ],
   "metadata": {
    "collapsed": false,
    "pycharm": {
     "name": "#%%\n"
    }
   }
  },
  {
   "cell_type": "code",
   "execution_count": 20,
   "outputs": [
    {
     "name": "stdout",
     "output_type": "stream",
     "text": [
      "The overnight and over-the-weekend returns are the same (fail to reject null hypothesis).\n"
     ]
    }
   ],
   "source": [
    "overnight_returns = hist['Overnight_Returns'].dropna()\n",
    "weekend_returns = hist['Weekend_Returns'].dropna()\n",
    "\n",
    "t_statistic, p_value = ttest_ind(overnight_returns, weekend_returns)\n",
    "\n",
    "if p_value < 0.05:\n",
    "    print(\"The overnight and over-the-weekend returns are not the same (reject null hypothesis).\")\n",
    "else:\n",
    "    print(\"The overnight and over-the-weekend returns are the same (fail to reject null hypothesis).\")\n"
   ],
   "metadata": {
    "collapsed": false,
    "pycharm": {
     "name": "#%%\n"
    }
   }
  },
  {
   "cell_type": "markdown",
   "source": [
    "# 3) test a hypothesis that return and volume on triple-witching days (the third Friday of March, June, September, and December) are different from the average return and volume"
   ],
   "metadata": {
    "collapsed": false,
    "pycharm": {
     "name": "#%% md\n"
    }
   }
  },
  {
   "cell_type": "code",
   "execution_count": 23,
   "outputs": [],
   "source": [
    "from scipy.stats import ttest_1samp, mannwhitneyu"
   ],
   "metadata": {
    "collapsed": false,
    "pycharm": {
     "name": "#%%\n"
    }
   }
  },
  {
   "cell_type": "code",
   "execution_count": 24,
   "outputs": [],
   "source": [
    "triple_witching_data = hist[hist['Weekday'] == 'Friday']\n",
    "\n",
    "average_return = hist['Returns'].mean()\n",
    "average_volume = hist['Volume'].mean()"
   ],
   "metadata": {
    "collapsed": false,
    "pycharm": {
     "name": "#%%\n"
    }
   }
  },
  {
   "cell_type": "markdown",
   "source": [
    "## Student's t-test"
   ],
   "metadata": {
    "collapsed": false,
    "pycharm": {
     "name": "#%% md\n"
    }
   }
  },
  {
   "cell_type": "code",
   "execution_count": 25,
   "outputs": [],
   "source": [
    "t_statistic_return, p_value_return = ttest_1samp(triple_witching_data['Returns'], average_return)\n",
    "t_statistic_volume, p_value_volume = ttest_1samp(triple_witching_data['Volume'], average_volume)"
   ],
   "metadata": {
    "collapsed": false,
    "pycharm": {
     "name": "#%%\n"
    }
   }
  },
  {
   "cell_type": "code",
   "execution_count": 26,
   "outputs": [
    {
     "name": "stdout",
     "output_type": "stream",
     "text": [
      "The returns on triple-witching days are different from the average.\n",
      "The volume on triple-witching days is not significantly different from the average.\n"
     ]
    }
   ],
   "source": [
    "if p_value_return < 0.05:\n",
    "    print(\"The returns on triple-witching days are different from the average.\")\n",
    "else:\n",
    "    print(\"The returns on triple-witching days are not significantly different from the average.\")\n",
    "\n",
    "if p_value_volume < 0.05:\n",
    "    print(\"The volume on triple-witching days is different from the average.\")\n",
    "else:\n",
    "    print(\"The volume on triple-witching days is not significantly different from the average.\")\n"
   ],
   "metadata": {
    "collapsed": false,
    "pycharm": {
     "name": "#%%\n"
    }
   }
  },
  {
   "cell_type": "markdown",
   "source": [
    "## Mann-Whitney U test"
   ],
   "metadata": {
    "collapsed": false,
    "pycharm": {
     "name": "#%% md\n"
    }
   }
  },
  {
   "cell_type": "code",
   "execution_count": 27,
   "outputs": [
    {
     "name": "stdout",
     "output_type": "stream",
     "text": [
      "The returns on triple-witching days are different from the average.\n",
      "The volume on triple-witching days is not significantly different from the average.\n"
     ]
    }
   ],
   "source": [
    "U_statistic_return, p_value_return = mannwhitneyu(triple_witching_data['Returns'], hist['Returns'])\n",
    "U_statistic_volume, p_value_volume = mannwhitneyu(triple_witching_data['Volume'], hist['Volume'])\n",
    "\n",
    "if p_value_return < 0.05:\n",
    "    print(\"The returns on triple-witching days are different from the average.\")\n",
    "else:\n",
    "    print(\"The returns on triple-witching days are not significantly different from the average.\")\n",
    "\n",
    "if p_value_volume < 0.05:\n",
    "    print(\"The volume on triple-witching days is different from the average.\")\n",
    "else:\n",
    "    print(\"The volume on triple-witching days is not significantly different from the average.\")\n"
   ],
   "metadata": {
    "collapsed": false,
    "pycharm": {
     "name": "#%%\n"
    }
   }
  },
  {
   "cell_type": "markdown",
   "source": [
    "# 4) test a hypothesis that a standard deviation of over-the-weekend and over-the-long-weekend returns are not different from a standard deviation of a weekday return"
   ],
   "metadata": {
    "collapsed": false,
    "pycharm": {
     "name": "#%% md\n"
    }
   }
  },
  {
   "cell_type": "code",
   "execution_count": 28,
   "outputs": [],
   "source": [
    "from scipy.stats import levene"
   ],
   "metadata": {
    "collapsed": false,
    "pycharm": {
     "name": "#%%\n"
    }
   }
  },
  {
   "cell_type": "code",
   "execution_count": 29,
   "outputs": [],
   "source": [
    "weekday_returns = hist[hist['Weekday'].isin(['Monday', 'Tuesday', 'Wednesday', 'Thursday'])]['Returns']\n",
    "weekend_returns = hist[hist['Weekday'] == 'Friday']['Returns']\n",
    "long_weekend_returns = hist[hist['Weekday'] == 'Saturday']['Returns']"
   ],
   "metadata": {
    "collapsed": false,
    "pycharm": {
     "name": "#%%\n"
    }
   }
  },
  {
   "cell_type": "markdown",
   "source": [
    "## Levene's test to compare the variances"
   ],
   "metadata": {
    "collapsed": false,
    "pycharm": {
     "name": "#%% md\n"
    }
   }
  },
  {
   "cell_type": "code",
   "execution_count": 30,
   "outputs": [
    {
     "name": "stdout",
     "output_type": "stream",
     "text": [
      "The standard deviations of returns are not significantly different (fail to reject null hypothesis).\n"
     ]
    },
    {
     "name": "stderr",
     "output_type": "stream",
     "text": [
      "/Users/artemilin/PycharmProjects/pythonProject/venv/lib/python3.9/site-packages/numpy/core/fromnumeric.py:3432: RuntimeWarning: Mean of empty slice.\n",
      "  return _methods._mean(a, axis=axis, dtype=dtype,\n",
      "/Users/artemilin/PycharmProjects/pythonProject/venv/lib/python3.9/site-packages/numpy/core/_methods.py:190: RuntimeWarning: invalid value encountered in double_scalars\n",
      "  ret = ret.dtype.type(ret / rcount)\n"
     ]
    }
   ],
   "source": [
    "statistic, p_value = levene(weekday_returns, weekend_returns, long_weekend_returns)\n",
    "\n",
    "if p_value < 0.05:\n",
    "    print(\"The standard deviations of returns are different (reject null hypothesis).\")\n",
    "else:\n",
    "    print(\"The standard deviations of returns are not significantly different (fail to reject null hypothesis).\")\n"
   ],
   "metadata": {
    "collapsed": false,
    "pycharm": {
     "name": "#%%\n"
    }
   }
  },
  {
   "cell_type": "code",
   "execution_count": null,
   "outputs": [],
   "source": [],
   "metadata": {
    "collapsed": false,
    "pycharm": {
     "name": "#%%\n"
    }
   }
  }
 ],
 "metadata": {
  "kernelspec": {
   "display_name": "Python 3",
   "language": "python",
   "name": "python3"
  },
  "language_info": {
   "codemirror_mode": {
    "name": "ipython",
    "version": 2
   },
   "file_extension": ".py",
   "mimetype": "text/x-python",
   "name": "python",
   "nbconvert_exporter": "python",
   "pygments_lexer": "ipython2",
   "version": "2.7.6"
  }
 },
 "nbformat": 4,
 "nbformat_minor": 0
}