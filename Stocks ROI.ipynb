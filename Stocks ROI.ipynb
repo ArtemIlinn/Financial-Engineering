{
 "cells": [
  {
   "cell_type": "code",
   "execution_count": 1,
   "metadata": {},
   "outputs": [],
   "source": [
    "import yfinance as yf"
   ]
  },
  {
   "cell_type": "code",
   "execution_count": 2,
   "metadata": {},
   "outputs": [
    {
     "name": "stdout",
     "output_type": "stream",
     "text": [
      "[*********************100%***********************]  1 of 1 completed\n",
      "[*********************100%***********************]  1 of 1 completed\n",
      "[*********************100%***********************]  1 of 1 completed\n"
     ]
    }
   ],
   "source": [
    "TSLA_hist = yf.download('TSLA')\n",
    "TAP_hist = yf.download('TAP')\n",
    "BLK_hist = yf.download('BLK')"
   ]
  },
  {
   "cell_type": "code",
   "execution_count": 3,
   "metadata": {},
   "outputs": [],
   "source": [
    "TSLA_starting_point = TSLA_hist.loc['2023-10-02']['Adj Close']\n",
    "TAP_starting_point = TAP_hist.loc['2023-10-02']['Adj Close']\n",
    "BLK_starting_point = BLK_hist.loc['2023-10-02']['Adj Close']"
   ]
  },
  {
   "cell_type": "code",
   "execution_count": 4,
   "metadata": {},
   "outputs": [
    {
     "name": "stdout",
     "output_type": "stream",
     "text": [
      "TSLA initial investment at price 251.60000610351562\n",
      "TAP initial investment at price 62.18287658691406\n",
      "BLK initial investment at price 638.7775268554688\n"
     ]
    }
   ],
   "source": [
    "print(f'TSLA initial investment at price {TSLA_starting_point}')\n",
    "print(f'TAP initial investment at price {TAP_starting_point}')\n",
    "print(f'BLK initial investment at price {BLK_starting_point}')"
   ]
  },
  {
   "cell_type": "code",
   "execution_count": 5,
   "metadata": {},
   "outputs": [],
   "source": [
    "TSLA_price_now = TSLA_hist.iloc[-1]['Adj Close']\n",
    "TAP_price_now = TAP_hist.iloc[-1]['Adj Close']\n",
    "BLK_price_now = BLK_hist.iloc[-1]['Adj Close']"
   ]
  },
  {
   "cell_type": "code",
   "execution_count": 6,
   "metadata": {},
   "outputs": [
    {
     "name": "stdout",
     "output_type": "stream",
     "text": [
      "TSLA price now 252.5399932861328\n",
      "TAP price now 61.36000061035156\n",
      "BLK price now 802.4199829101562\n"
     ]
    }
   ],
   "source": [
    "print(f'TSLA price now {TSLA_price_now}')\n",
    "print(f'TAP price now {TAP_price_now}')\n",
    "print(f'BLK price now {BLK_price_now}')"
   ]
  },
  {
   "cell_type": "code",
   "execution_count": 7,
   "metadata": {},
   "outputs": [],
   "source": [
    "TSLA_roi = TSLA_price_now / TSLA_starting_point * 100\n",
    "TAP_roi = TAP_price_now / TAP_starting_point * 100\n",
    "BLK_roi = BLK_price_now / BLK_starting_point * 100"
   ]
  },
  {
   "cell_type": "code",
   "execution_count": 8,
   "metadata": {},
   "outputs": [
    {
     "name": "stdout",
     "output_type": "stream",
     "text": [
      "TSLA ROI: 100.3736037996082\n",
      "TAP ROI:  98.67668396554097\n",
      "BLK ROI:  125.61806719473299\n"
     ]
    }
   ],
   "source": [
    "print(f'TSLA ROI: {TSLA_roi}')\n",
    "print(f'TAP ROI:  {TAP_roi}')\n",
    "print(f'BLK ROI:  {BLK_roi}')"
   ]
  },
  {
   "cell_type": "code",
   "execution_count": 9,
   "metadata": {},
   "outputs": [
    {
     "name": "stdout",
     "output_type": "stream",
     "text": [
      "Total ROI: 108.22278498662739\n"
     ]
    }
   ],
   "source": [
    "TSLA_Capital = 10000\n",
    "TAP_Capital = 10000\n",
    "BLK_Capital = 10000\n",
    "\n",
    "\n",
    "TSLA_shares = TSLA_Capital / TSLA_starting_point\n",
    "TAP_shares = TAP_Capital / TAP_starting_point\n",
    "BLK_shares = BLK_Capital / BLK_starting_point\n",
    "\n",
    "\n",
    "total_roi = (TSLA_shares*TSLA_price_now + TAP_shares*TAP_price_now + BLK_shares*BLK_price_now) / (TSLA_Capital + TAP_Capital + BLK_Capital) * 100\n",
    "\n",
    "print(f'Total ROI: {total_roi}')"
   ]
  },
  {
   "cell_type": "code",
   "execution_count": 10,
   "metadata": {},
   "outputs": [
    {
     "name": "stdout",
     "output_type": "stream",
     "text": [
      "Portfolio 8.222784986627389 % up!\n"
     ]
    }
   ],
   "source": [
    "diff = total_roi - 100\n",
    "\n",
    "if diff > 0:\n",
    "    print(f'Portfolio {diff} % up!')\n",
    "elif diff < 0:\n",
    "    print(f'Portfolio {abs(diff)} % down!')\n",
    "else:\n",
    "    print('Well-balanced')"
   ]
  },
  {
   "cell_type": "code",
   "execution_count": null,
   "metadata": {},
   "outputs": [],
   "source": []
  }
 ],
 "metadata": {
  "kernelspec": {
   "display_name": "Python 3",
   "language": "python",
   "name": "python3"
  },
  "language_info": {
   "codemirror_mode": {
    "name": "ipython",
    "version": 3
   },
   "file_extension": ".py",
   "mimetype": "text/x-python",
   "name": "python",
   "nbconvert_exporter": "python",
   "pygments_lexer": "ipython3",
   "version": "3.9.13"
  }
 },
 "nbformat": 4,
 "nbformat_minor": 2
}
